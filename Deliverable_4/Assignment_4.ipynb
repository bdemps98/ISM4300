{
  "nbformat": 4,
  "nbformat_minor": 0,
  "metadata": {
    "colab": {
      "provenance": []
    },
    "kernelspec": {
      "name": "python3",
      "display_name": "Python 3"
    },
    "language_info": {
      "name": "python"
    }
  },
  "cells": [
    {
      "cell_type": "markdown",
      "source": [
        "# Deliverable 4 - Python Programming\n",
        "\n",
        "*   **Method 1:** *Randomly populate a list with integers numbers between 10 and 50. The list length is a parameter for the method.*\n",
        "*   **Method 2:** *Return the summation of all the elements of a list (the list is the parameter for this method).*\n",
        "\n",
        "## Program Instructions\n",
        "\n",
        "\n",
        "\n",
        "1.   Ask the user to enter an integer number between 5 and 15.\n",
        "2.   Use a conditional statement to check the user’s entry is between 5 and 15.\n",
        "3.   Use Method 1 to randomly populates a list with a length equal to the user’s entry.\n",
        "4.   Display in the console all the elements the in the list.\n",
        "\n",
        "5.   Use Method 2 to sum all the elements in the list from step 3.\n",
        "6.   Display in the console the value from step 5.\n",
        "\n",
        "Optional: Use a loop to repeat steps 1 and 2 until the user provides a proper entry."
      ],
      "metadata": {
        "id": "6-oywTlCUhOJ"
      }
    },
    {
      "cell_type": "code",
      "execution_count": 17,
      "metadata": {
        "colab": {
          "base_uri": "https://localhost:8080/"
        },
        "id": "jVGxtJJUUeml",
        "outputId": "a2cc00fb-237b-4b05-b453-aeecf8572f7c"
      },
      "outputs": [
        {
          "output_type": "stream",
          "name": "stdout",
          "text": [
            "Please enter an integer number between 5 and 15: 4\n",
            "The value you have entered is invalid, please try again.\n",
            "Please enter an integer number between 5 and 15: 16\n",
            "The value you have entered is invalid, please try again.\n",
            "Please enter an integer number between 5 and 15: 10\n",
            "The elements within the list are: [46 41 21 33 18 43 50 36 13 37]\n",
            "The sum of all the elements in the list is: 338\n"
          ]
        }
      ],
      "source": [
        "import numpy as np\n",
        "\n",
        "# Instance of the numpy.random.Generator class\n",
        "random_generator = np.random.default_rng()\n",
        "\n",
        "# Returns a list with a specified length of random integers between 10 and 50\n",
        "def get_random_integer_list(length):\n",
        "  return random_generator.integers(10, 51, size = length)\n",
        "\n",
        "# Returns the summation of all elements within the specified list\n",
        "def get_sum_of_list(input_list):\n",
        "  return sum(list(filter(lambda x: (x), input_list)))\n",
        "\n",
        "# Executes all program instructions including the optional steps.\n",
        "while True:\n",
        "  input_length = int(input(\"Please enter an integer number between 5 and 15: \"))\n",
        "  if input_length >= 5 and input_length <= 15:\n",
        "    random_list = get_random_integer_list(input_length)\n",
        "    print(\"The elements within the list are:\", random_list)\n",
        "    print(\"The sum of all the elements in the list is:\", get_sum_of_list(random_list))\n",
        "    break;\n",
        "  else:\n",
        "    print('The value you have entered is invalid, please try again.')\n"
      ]
    }
  ]
}